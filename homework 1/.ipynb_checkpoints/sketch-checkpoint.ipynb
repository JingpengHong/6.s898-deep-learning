{
 "cells": [
  {
   "cell_type": "markdown",
   "id": "b0e42293",
   "metadata": {},
   "source": [
    "# Homework 1 - Sketch"
   ]
  },
  {
   "cell_type": "markdown",
   "id": "9957c32d",
   "metadata": {},
   "source": [
    "## Approximation, Q5"
   ]
  },
  {
   "cell_type": "code",
   "execution_count": 3,
   "id": "c915f338",
   "metadata": {},
   "outputs": [],
   "source": [
    "import matplotlib.pyplot as plt\n",
    "import numpy as np"
   ]
  },
  {
   "cell_type": "code",
   "execution_count": 7,
   "id": "25caf07d",
   "metadata": {},
   "outputs": [],
   "source": [
    "def relu(x):\n",
    "    return np.maximum(0, x)"
   ]
  },
  {
   "cell_type": "code",
   "execution_count": 15,
   "id": "4bc9ea66",
   "metadata": {},
   "outputs": [],
   "source": [
    "x = np.linspace(-5, 5, 100)"
   ]
  },
  {
   "cell_type": "code",
   "execution_count": 16,
   "id": "d48f7bf8",
   "metadata": {},
   "outputs": [
    {
     "data": {
      "text/plain": [
       "[<matplotlib.lines.Line2D at 0x1194107d0>]"
      ]
     },
     "execution_count": 16,
     "metadata": {},
     "output_type": "execute_result"
    },
    {
     "data": {
      "image/png": "[encoded data removed]",
      "text/plain": [
       "<Figure size 300x300 with 1 Axes>"
      ]
     },
     "metadata": {},
     "output_type": "display_data"
    }
   ],
   "source": [
    "y_a = relu(x) - relu(-x)\n",
    "plt.figure(figsize=(3, 3))\n",
    "plt.plot(x, y_a, label='linear output')"
   ]
  },
  {
   "cell_type": "code",
   "execution_count": null,
   "id": "118dca72",
   "metadata": {},
   "outputs": [],
   "source": [
    "y_b = relu(x) - relu(-x)\n",
    "plt.figure(figsize=(3, 3))\n",
    "plt.plot(x, y_a, label='linear output')"
   ]
  }
 ],
 "metadata": {
  "kernelspec": {
   "display_name": "Python 3 (ipykernel)",
   "language": "python",
   "name": "python3"
  },
  "language_info": {
   "codemirror_mode": {
    "name": "ipython",
    "version": 3
   },
   "file_extension": ".py",
   "mimetype": "text/x-python",
   "name": "python",
   "nbconvert_exporter": "python",
   "pygments_lexer": "ipython3",
   "version": "3.11.2"
  }
 },
 "nbformat": 4,
 "nbformat_minor": 5
}
