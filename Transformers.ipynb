{
 "cells": [
  {
   "cell_type": "code",
   "execution_count": 106,
   "id": "47cd59de",
   "metadata": {
    "id": "47cd59de"
   },
   "outputs": [],
   "source": [
    "import torch\n",
    "import torch.nn as nn\n",
    "from typing import Tuple, Union, Optional, List\n",
    "import torchvision\n",
    "import torchvision.transforms as transforms\n",
    "import matplotlib.pyplot as plt\n",
    "import numpy as np"
   ]
  },
  {
   "cell_type": "code",
   "execution_count": 66,
   "id": "baab5229",
   "metadata": {
    "id": "baab5229"
   },
   "outputs": [],
   "source": [
    "# a utility for calculating running average\n",
    "class AverageMeter():\n",
    "    def __init__(self):\n",
    "        self.num = 0\n",
    "        self.tot = 0\n",
    "\n",
    "    def update(self, val: float, sz: float):\n",
    "        self.num += val*sz\n",
    "        self.tot += sz\n",
    "\n",
    "    def calculate(self) -> float:\n",
    "        return self.num/self.tot"
   ]
  },
  {
   "cell_type": "markdown",
   "id": "6eb743ee",
   "metadata": {
    "id": "6eb743ee"
   },
   "source": [
    "# Problem 2: Implement a Transformer"
   ]
  },
  {
   "cell_type": "markdown",
   "id": "e6cffe0a",
   "metadata": {
    "id": "e6cffe0a"
   },
   "source": [
    "## Part 2.A"
   ]
  },
  {
   "cell_type": "code",
   "execution_count": 67,
   "id": "29fc4254",
   "metadata": {
    "id": "29fc4254"
   },
   "outputs": [],
   "source": [
    "class AttentionHead(nn.Module):\n",
    "    def __init__(self, dim: int, n_hidden: int):\n",
    "        # dim: the dimension of the input\n",
    "        # n_hidden: the dimension of the keys, queries, and values\n",
    "\n",
    "        super().__init__()\n",
    "\n",
    "        self.W_K = nn.Linear(dim, n_hidden) # W_K weight matrix\n",
    "        self.W_Q = nn.Linear(dim, n_hidden) # W_Q weight matrix\n",
    "        self.W_V = nn.Linear(dim, n_hidden) # W_V weight matrix\n",
    "        self.n_hidden = n_hidden\n",
    "\n",
    "    def forward(self, x: torch.Tensor, attn_mask: Optional[torch.Tensor]) -> Tuple[torch.Tensor, torch.Tensor]:\n",
    "        # x                the inputs. shape: (B x T x dim)\n",
    "        # attn_mask        an attention mask. If None, ignore. If not None, then mask[b, i, j]\n",
    "        #                  contains 1 if (in batch b) token i should attend on token j and 0\n",
    "        #                  otherwise. shape: (B x T x T)\n",
    "        #\n",
    "        # Outputs:\n",
    "        # attn_output      the output of performing self-attention on x. shape: (Batch x Num_tokens x n_hidden)\n",
    "        # alpha            the attention weights (after softmax). shape: (B x T x T)\n",
    "        #\n",
    "\n",
    "        # TODO: Compute self attention on x.\n",
    "        #       (1) First project x to the query Q, key K, value V.\n",
    "        #       (2) Then compute the attention weights alpha as:\n",
    "        #                  alpha = softmax(QK^T/sqrt(n_hidden))\n",
    "        #           Make sure to take into account attn_mask such that token i does not attend on token\n",
    "        #           j if attn_mask[b, i, j] == 0. (Hint, in such a case, what value should you set the weight\n",
    "        #           to before the softmax so that after the softmax the value is 0?)\n",
    "        #       (3) The output is a linear combination of the values (weighted by the alphas):\n",
    "        #                  out = alpha V\n",
    "        #       (4) return the output and the alpha after the softmax\n",
    "\n",
    "        # ======= Answer START ========\n",
    "        # (1) project x to the query Q, key K, value V.\n",
    "        Q = self.W_Q(x)\n",
    "        K = self.W_K(x)\n",
    "        V = self.W_V(x)\n",
    "\n",
    "        # (2) compute the attention weights alpha\n",
    "        weight = Q @ K.permute(0,2,1) / self.n_hidden**0.5\n",
    "\n",
    "        if attn_mask is not None:\n",
    "          attn_mask = attn_mask.bool()\n",
    "          weight = weight.masked_fill(~attn_mask, -np.inf) # the weight should be -inf\n",
    "\n",
    "        alpha = nn.functional.softmax(weight, dim=-1)\n",
    "\n",
    "        # (3) compute the output\n",
    "        attn_output = alpha @ V\n",
    "\n",
    "        # ======= Answer  END ========\n",
    "\n",
    "        return attn_output, alpha"
   ]
  },
  {
   "cell_type": "code",
   "execution_count": 68,
   "id": "ddd56734",
   "metadata": {
    "id": "ddd56734"
   },
   "outputs": [],
   "source": [
    "from posixpath import dirname\n",
    "class MultiHeadedAttention(nn.Module):\n",
    "    def __init__(self, dim: int, n_hidden: int, num_heads: int):\n",
    "        # dim: the dimension of the input\n",
    "        # n_hidden: the hidden dimension for the attention layer\n",
    "        # num_heads: the number of attention heads\n",
    "        super().__init__()\n",
    "\n",
    "        # TODO: set up your parameters for multi-head attention. You should initialize\n",
    "        #       num_heads attention heads (see nn.ModuleList) as well as a linear layer\n",
    "        #       that projects the concatenated outputs of each head into dim\n",
    "        #       (what size should this linear layer be?)\n",
    "\n",
    "        # ======= Answer START ========\n",
    "        # initialize num_heads attention heads (see nn.ModuleList)\n",
    "        self.attn_list = nn.ModuleList([AttentionHead(dim, n_hidden) for i in range(num_heads)])\n",
    "\n",
    "        # initialize the W_O that projects the concatenated outputs into dim\n",
    "        self.W_O = nn.Linear(num_heads * n_hidden, dim)\n",
    "        # ======= Answer  END ========\n",
    "\n",
    "    def forward(self, x: torch.Tensor, attn_mask: Optional[torch.Tensor]) -> Tuple[torch.Tensor, torch.Tensor]:\n",
    "        # x                the inputs. shape: (B x T x dim)\n",
    "        # attn_mask        an attention mask. If None, ignore. If not None, then mask[b, i, j]\n",
    "        #                  contains 1 if (in batch b) token i should attend on token j and 0\n",
    "        #                  otherwise. shape: (B x T x T)\n",
    "        #\n",
    "        # Outputs:\n",
    "        # attn_output      the output of performing multi-headed self-attention on x.\n",
    "        #                  shape: (B x T x dim)\n",
    "        # attn_alphas      the attention weights of each of the attention heads.\n",
    "        #                  shape: (B x Num_heads x T x T)\n",
    "\n",
    "        attn_output, attn_alphas = None, None\n",
    "\n",
    "        # TODO: Compute multi-headed attention. Loop through each of your attention heads\n",
    "        #       and collect the outputs. Concatenate them together along the hidden dimension,\n",
    "        #       and then project them back into the output dimension (dim). Return both\n",
    "        #       the final attention outputs as well as the alphas from each head.\n",
    "\n",
    "        # ======= Answer START ========\n",
    "        attn_output_list = []\n",
    "        alpha_list = []\n",
    "\n",
    "        for attn in self.attn_list:\n",
    "          attn_output, alpha = attn(x, attn_mask)\n",
    "          attn_output_list.append(attn_output)\n",
    "          alpha_list.append(alpha)\n",
    "\n",
    "        attn_output = self.W_O(torch.cat(attn_output_list, dim=-1))\n",
    "        attn_alphas = torch.stack(alpha_list).permute(1, 0, 2, 3)\n",
    "\n",
    "        # ======= Answer END ==========\n",
    "        return attn_output, attn_alphas"
   ]
  },
  {
   "cell_type": "markdown",
   "id": "a8012740",
   "metadata": {
    "id": "a8012740"
   },
   "source": [
    "## Part 2.C"
   ]
  },
  {
   "cell_type": "code",
   "execution_count": 69,
   "id": "8531bc02",
   "metadata": {
    "id": "8531bc02"
   },
   "outputs": [],
   "source": [
    "# these are already implemented for you!\n",
    "\n",
    "class FFN(nn.Module):\n",
    "    def __init__(self, dim: int, n_hidden: int):\n",
    "        # dim       the dimension of the input\n",
    "        # n_hidden  the width of the linear layer\n",
    "\n",
    "        super().__init__()\n",
    "        self.net = nn.Sequential(\n",
    "            nn.LayerNorm(dim),\n",
    "            nn.Linear(dim, n_hidden),\n",
    "            nn.GELU(),\n",
    "            nn.Linear(n_hidden, dim),\n",
    "        )\n",
    "\n",
    "    def forward(self, x: torch.Tensor)-> torch.Tensor:\n",
    "        # x         the input. shape: (B x T x dim)\n",
    "\n",
    "        # Outputs:\n",
    "        # out       the output of the feed-forward network: (B x T x dim)\n",
    "        return self.net(x)\n",
    "\n",
    "class AttentionResidual(nn.Module):\n",
    "    def __init__(self, dim: int, attn_dim: int, mlp_dim: int, num_heads: int):\n",
    "        # dim       the dimension of the input\n",
    "        # attn_dim  the hidden dimension of the attention layer\n",
    "        # mlp_dim   the hidden layer of the FFN\n",
    "        # num_heads the number of heads in the attention layer\n",
    "        super().__init__()\n",
    "        self.attn = MultiHeadedAttention(dim, attn_dim, num_heads)\n",
    "        self.ffn = FFN(dim, mlp_dim)\n",
    "\n",
    "    def forward(self, x: torch.Tensor, attn_mask: torch.Tensor) -> Tuple[torch.Tensor, torch.Tensor]:\n",
    "        # x                the inputs. shape: (B x T x dim)\n",
    "        # attn_mask        an attention mask. If None, ignore. If not None, then mask[b, i, j]\n",
    "        #                  contains 1 if (in batch b) token i should attend on token j and 0\n",
    "        #                  otherwise. shape: (B x T x T)\n",
    "        #\n",
    "        # Outputs:\n",
    "        # attn_output      shape: (B x T x dim)\n",
    "        # attn_alphas      the attention weights of each of the attention heads.\n",
    "        #                  shape: (B x Num_heads x T x T)\n",
    "\n",
    "        attn_out, alphas = self.attn(x=x, attn_mask=attn_mask)\n",
    "        x = attn_out + x\n",
    "        x = self.ffn(x) + x\n",
    "        return x, alphas"
   ]
  },
  {
   "cell_type": "code",
   "execution_count": 70,
   "id": "02c21aea",
   "metadata": {
    "id": "02c21aea"
   },
   "outputs": [],
   "source": [
    "class Transformer(nn.Module):\n",
    "    def __init__(self, dim: int, attn_dim: int, mlp_dim: int, num_heads: int, num_layers: int):\n",
    "        # dim       the dimension of the input\n",
    "        # attn_dim  the hidden dimension of the attention layer\n",
    "        # mlp_dim   the hidden layer of the FFN\n",
    "        # num_heads the number of heads in the attention layer\n",
    "        # num_layers the number of attention layers.\n",
    "        super().__init__()\n",
    "\n",
    "        # TODO: set up the parameters for the transformer!\n",
    "        #       You should set up num_layers of AttentionResiduals\n",
    "        #       nn.ModuleList will be helpful here.\n",
    "\n",
    "        # ======= Answer START ========\n",
    "        self.layer = nn.ModuleList([AttentionResidual(dim, attn_dim, mlp_dim, num_heads) for i in range(num_layers)])\n",
    "        # ======= Answer END ==========\n",
    "\n",
    "    def forward(self, x: torch.Tensor, attn_mask: torch.Tensor, return_attn=False)-> Tuple[torch.Tensor, Optional[torch.Tensor]]:\n",
    "        # x                the inputs. shape: (B x T x dim)\n",
    "        # attn_mask        an attention mask. Pass this to each of the AttentionResidual layers!\n",
    "        #                  shape: (B x T x T)\n",
    "        #\n",
    "        # Outputs:\n",
    "        # attn_output      shape: (B x T x dim)\n",
    "        # attn_alphas      If return_attn is False, return None. Otherwise return the attention weights\n",
    "        #                  of each of each of the attention heads for each of the layers.\n",
    "        #                  shape: (B x Num_layers x Num_heads x T x T)\n",
    "\n",
    "        # TODO: Implement the transformer forward pass! Pass the input successively through each of the\n",
    "        # AttentionResidual layers. If return_attn is True, collect the alphas along the way.\n",
    "\n",
    "        # ======= Answer START ========\n",
    "        collected_attns = [] if return_attn else None\n",
    "        for g in self.layer:\n",
    "          x, alphas = g(x, attn_mask)\n",
    "\n",
    "          if return_attn:\n",
    "            collected_attns.append(alphas)\n",
    "\n",
    "        if return_attn:\n",
    "            collected_attns = torch.stack(collected_attns, dim=1)\n",
    "\n",
    "        output = x\n",
    "        # ======= Answer END ==========\n",
    "\n",
    "        return output, collected_attns"
   ]
  },
  {
   "cell_type": "markdown",
   "id": "643d379b",
   "metadata": {
    "id": "643d379b"
   },
   "source": [
    "Test your transformer implementation here"
   ]
  },
  {
   "cell_type": "code",
   "execution_count": 71,
   "id": "9aaa156e",
   "metadata": {
    "colab": {
     "base_uri": "https://localhost:8080/"
    },
    "id": "9aaa156e",
    "outputId": "1620b4fc-11e0-496b-9af0-3dab773d4a62"
   },
   "outputs": [
    {
     "name": "stdout",
     "output_type": "stream",
     "text": [
      "Test Case 1\n",
      "Test Case 2\n",
      "Attention mask pattern tensor([[1., 0., 0.,  ..., 0., 0., 0.],\n",
      "        [1., 1., 0.,  ..., 0., 0., 0.],\n",
      "        [0., 1., 1.,  ..., 0., 0., 0.],\n",
      "        ...,\n",
      "        [0., 0., 0.,  ..., 1., 0., 0.],\n",
      "        [0., 0., 0.,  ..., 1., 1., 0.],\n",
      "        [0., 0., 0.,  ..., 0., 1., 1.]], device='cuda:0')\n",
      "Alpha pattern tensor([[1.0000, 0.0000, 0.0000,  ..., 0.0000, 0.0000, 0.0000],\n",
      "        [0.4893, 0.5107, 0.0000,  ..., 0.0000, 0.0000, 0.0000],\n",
      "        [0.0000, 0.4285, 0.5715,  ..., 0.0000, 0.0000, 0.0000],\n",
      "        ...,\n",
      "        [0.0000, 0.0000, 0.0000,  ..., 0.4230, 0.0000, 0.0000],\n",
      "        [0.0000, 0.0000, 0.0000,  ..., 0.4806, 0.5194, 0.0000],\n",
      "        [0.0000, 0.0000, 0.0000,  ..., 0.0000, 0.6032, 0.3968]],\n",
      "       device='cuda:0')\n"
     ]
    }
   ],
   "source": [
    "def perform_transformer_test_cases():\n",
    "    num_tokens = 100\n",
    "    batch_size = 10\n",
    "    dim = 64\n",
    "    num_layers = 4\n",
    "    num_heads = 2\n",
    "    dummy_model = Transformer(dim=dim, attn_dim=32, mlp_dim=dim, num_heads=num_heads, num_layers=num_layers).cuda()\n",
    "\n",
    "    inp = torch.randn(batch_size, num_tokens, dim).cuda()\n",
    "\n",
    "    # test case 1 regular forward pass\n",
    "    print(\"Test Case 1\")\n",
    "    with torch.no_grad():\n",
    "        output, alpha = dummy_model(inp, attn_mask=None)\n",
    "        assert alpha is None\n",
    "        assert output.shape == (batch_size, num_tokens, dim), f\"wrong output shape {output.shape}\"\n",
    "\n",
    "    # test case 2 collect attentions\n",
    "    print(\"Test Case 2\")\n",
    "    with torch.no_grad():\n",
    "        output, alpha = dummy_model(inp, attn_mask=None, return_attn=True)\n",
    "        assert output.shape == (batch_size, num_tokens, dim), f\"wrong output shape {output.shape}\"\n",
    "        assert alpha.shape == (batch_size, num_layers, num_heads, num_tokens, num_tokens), f\"wrong alpha shape {alpha.shape}\"\n",
    "\n",
    "    # test case 3 with attention mask\n",
    "    attn_mask = torch.zeros(batch_size, num_tokens, num_tokens).cuda()\n",
    "    attn_mask[:, torch.arange(num_tokens), torch.arange(num_tokens)] = 1\n",
    "    attn_mask[:, torch.arange(num_tokens)[1:], torch.arange(num_tokens)[:-1]] = 1\n",
    "\n",
    "    with torch.no_grad():\n",
    "        output, alpha = dummy_model(inp, attn_mask=attn_mask, return_attn=True)\n",
    "        print(\"Attention mask pattern\", attn_mask[0])\n",
    "        print(\"Alpha pattern\", alpha[0, 0, 0])\n",
    "        assert torch.all(alpha.permute(1, 2, 0, 3, 4)[:, :, attn_mask == 0] == 0).item()\n",
    "\n",
    "perform_transformer_test_cases()"
   ]
  },
  {
   "cell_type": "markdown",
   "id": "5afc7e9b",
   "metadata": {
    "id": "5afc7e9b"
   },
   "source": [
    "## Problem 3: Vision Transformer"
   ]
  },
  {
   "cell_type": "markdown",
   "id": "67b725d5",
   "metadata": {
    "id": "67b725d5"
   },
   "source": [
    "## Part 3.A"
   ]
  },
  {
   "cell_type": "code",
   "execution_count": 72,
   "id": "0dc4ea76",
   "metadata": {
    "id": "0dc4ea76"
   },
   "outputs": [],
   "source": [
    "class PatchEmbed(nn.Module):\n",
    "    \"\"\" Image to Patch Embedding\n",
    "    \"\"\"\n",
    "    def __init__(self, img_size: int, patch_size: int, nin: int, nout: int):\n",
    "        # img_size       the width and height of the image. you can assume that\n",
    "        #                the images will be square\n",
    "        # patch_size     the width of each square patch. You can assume that\n",
    "        #                img_size is divisible by patch_size\n",
    "        # nin            the number of input channels\n",
    "        # nout           the number of output channels\n",
    "\n",
    "        super().__init__()\n",
    "        assert img_size % patch_size == 0\n",
    "\n",
    "        self.img_size = img_size\n",
    "        self.num_patches = (img_size // patch_size)**2\n",
    "\n",
    "        # TODO Set up parameters for the Patch Embedding\n",
    "        # ======= Answer START ========\n",
    "\n",
    "        # define the Conv2d and Flatten modules\n",
    "        self.conv = nn.Conv2d(in_channels=nin, out_channels=nout, kernel_size=patch_size, stride=patch_size)\n",
    "        self.flatten = nn.Flatten(start_dim=2, end_dim=3)\n",
    "        # ======= Answer END ==========\n",
    "\n",
    "    def forward(self, x: torch.Tensor):\n",
    "        # x        the input image. shape: (B, nin, Height, Width)\n",
    "        #\n",
    "        # Output\n",
    "        # out      the patch embeddings for the input. shape: (B, num_patches, nout)\n",
    "\n",
    "\n",
    "        # TODO: Implement the patch embedding. You want to split up the image into\n",
    "        # square patches of the given patch size. Then each patch_size x patch_size\n",
    "        # square should be linearly projected into an embedding of size nout.\n",
    "        #\n",
    "        # Hint: Take a look at nn.Conv2d. How can this be used to perform the\n",
    "        #       patch embedding?\n",
    "\n",
    "        # ======= Answer START ========\n",
    "        x_conv = self.conv(x) # shape: [B, nout, img_size // patch_size, img_size // patch_size]\n",
    "        x_flatten = self.flatten(x_conv) # shape: [B, nout, num_patches]\n",
    "        out = x_flatten.permute(0, 2, 1) # shape: [B, num_patches, nout]\n",
    "        # ======= Answer END ==========\n",
    "\n",
    "        return out"
   ]
  },
  {
   "cell_type": "markdown",
   "id": "57d32978",
   "metadata": {
    "id": "57d32978"
   },
   "source": [
    "## Part 3.B"
   ]
  },
  {
   "cell_type": "code",
   "execution_count": 73,
   "id": "df3d8a7a",
   "metadata": {
    "id": "df3d8a7a"
   },
   "outputs": [],
   "source": [
    "class VisionTransformer(nn.Module):\n",
    "    def __init__(self, n_channels: int, nout: int, img_size: int, patch_size: int, dim: int, attn_dim: int,\n",
    "                 mlp_dim: int, num_heads: int, num_layers: int):\n",
    "        # n_channels       number of input image channels\n",
    "        # nout             desired output dimension\n",
    "        # img_size         width of the square image\n",
    "        # patch_size       width of the square patch\n",
    "        # dim              embedding dimension\n",
    "        # attn_dim         the hidden dimension of the attention layer\n",
    "        # mlp_dim          the hidden layer dimension of the FFN\n",
    "        # num_heads        the number of heads in the attention layer\n",
    "        # num_layers       the number of attention layers.\n",
    "        super().__init__()\n",
    "        self.patch_embed = PatchEmbed(img_size=img_size, patch_size=patch_size, nin=n_channels, nout=dim)\n",
    "        self.pos_E = nn.Embedding((img_size//patch_size)**2, dim) # positional embedding matrix\n",
    "\n",
    "        self.cls_token = nn.Parameter(torch.randn(1, 1, dim)) # learned class embedding\n",
    "        self.transformer = Transformer(\n",
    "            dim=dim, attn_dim=attn_dim, mlp_dim=mlp_dim, num_heads=num_heads, num_layers=num_layers)\n",
    "\n",
    "        self.head = nn.Sequential(\n",
    "            nn.LayerNorm(dim),\n",
    "            nn.Linear(dim, nout)\n",
    "        )\n",
    "\n",
    "    def forward(self, img: torch.Tensor, return_attn=False) ->Tuple[torch.Tensor, Optional[torch.Tensor]]:\n",
    "        # img          the input image. shape: (B, nin, img_size, img_size)\n",
    "        # return_attn  whether to return the attention alphas\n",
    "        #\n",
    "        # Outputs\n",
    "        # out          the output of the vision transformer. shape: (B, nout)\n",
    "        # alphas       the attention weights for all heads and layers. None if return_attn is False, otherwise\n",
    "        #              shape: (B, num_layers, num_heads, num_patches + 1, num_patches + 1)\n",
    "\n",
    "        # generate embeddings\n",
    "        embs = self.patch_embed(img) # patch embedding\n",
    "        B, T, _ = embs.shape\n",
    "        pos_ids = torch.arange(T).expand(B, -1).to(embs.device)\n",
    "        embs += self.pos_E(pos_ids) # positional embedding\n",
    "\n",
    "        cls_token = self.cls_token.expand(len(embs), -1, -1)\n",
    "        x = torch.cat([cls_token, embs], dim=1)\n",
    "\n",
    "        x, alphas = self.transformer(x, attn_mask=None, return_attn=return_attn)\n",
    "        out = self.head(x)[:, 0]\n",
    "        return out, alphas\n",
    "\n"
   ]
  },
  {
   "cell_type": "markdown",
   "id": "8bcc81df",
   "metadata": {
    "id": "8bcc81df"
   },
   "source": [
    "## Part 3.C"
   ]
  },
  {
   "cell_type": "code",
   "execution_count": 74,
   "id": "e1107044",
   "metadata": {
    "colab": {
     "base_uri": "https://localhost:8080/"
    },
    "id": "e1107044",
    "outputId": "5cb33767-cb7b-4837-bf6b-8da02e5a88b6"
   },
   "outputs": [
    {
     "name": "stdout",
     "output_type": "stream",
     "text": [
      "Downloading https://www.cs.toronto.edu/~kriz/cifar-10-python.tar.gz to data/cifar-10-python.tar.gz\n"
     ]
    },
    {
     "name": "stderr",
     "output_type": "stream",
     "text": [
      "100%|██████████| 170498071/170498071 [00:04<00:00, 37890256.93it/s]\n"
     ]
    },
    {
     "name": "stdout",
     "output_type": "stream",
     "text": [
      "Extracting data/cifar-10-python.tar.gz to data\n"
     ]
    },
    {
     "name": "stderr",
     "output_type": "stream",
     "text": [
      "/usr/local/lib/python3.10/dist-packages/torch/utils/data/dataloader.py:557: UserWarning: This DataLoader will create 10 worker processes in total. Our suggested max number of worker in current system is 2, which is smaller than what this DataLoader is going to create. Please be aware that excessive worker creation might get DataLoader running slow or even freeze, lower the worker number to avoid potential slowness/freeze if necessary.\n",
      "  warnings.warn(_create_warning_msg(\n"
     ]
    }
   ],
   "source": [
    "# set up the dataset and dataloader\n",
    "\n",
    "MEAN = [0.4914, 0.4822, 0.4465]\n",
    "STD = [0.2470, 0.2435, 0.2616]\n",
    "img_transform = transforms.Compose([\n",
    "    transforms.ToTensor(),\n",
    "    transforms.Normalize(mean=MEAN, std=STD),\n",
    "])\n",
    "inv_transform = transforms.Compose([\n",
    "    transforms.Normalize(\n",
    "        mean = [ 0., 0., 0. ],\n",
    "        std = 1/np.array(STD)),\n",
    "    transforms.Normalize(\n",
    "        mean = -np.array(MEAN),\n",
    "        std = [ 1., 1., 1. ]),\n",
    "    transforms.ToPILImage(),\n",
    "])\n",
    "\n",
    "\n",
    "train_dataset = torchvision.datasets.CIFAR10(train=True, root='data', transform=img_transform, download=True)\n",
    "val_dataset = torchvision.datasets.CIFAR10(train=False, root='data', transform=img_transform)\n",
    "train_dataloader = torch.utils.data.DataLoader(train_dataset, batch_size=256, shuffle=True, num_workers=10)\n",
    "val_dataloader = torch.utils.data.DataLoader(val_dataset, batch_size=256, shuffle=False, num_workers=10)"
   ]
  },
  {
   "cell_type": "code",
   "execution_count": 75,
   "id": "2540d4b3",
   "metadata": {
    "id": "2540d4b3"
   },
   "outputs": [],
   "source": [
    "# set up the model and optimizer\n",
    "\n",
    "import torch.optim as optim\n",
    "\n",
    "model = VisionTransformer(n_channels=3, nout=10, img_size=32, patch_size=4,\n",
    "                          dim=128, attn_dim=64, mlp_dim=128, num_heads=3, num_layers=6).cuda()\n",
    "\n",
    "criterion = nn.CrossEntropyLoss()\n",
    "\n",
    "\n",
    "NUM_EPOCHS = 10\n",
    "optimizer = optim.AdamW(model.parameters(), lr=0.001)\n",
    "scheduler = optim.lr_scheduler.CosineAnnealingLR(optimizer, T_max=NUM_EPOCHS)\n",
    "\n"
   ]
  },
  {
   "cell_type": "code",
   "execution_count": 76,
   "id": "147e1bc8",
   "metadata": {
    "id": "147e1bc8"
   },
   "outputs": [],
   "source": [
    "# evaluate the model\n",
    "def evaluate_cifar_model(model, criterion, val_loader):\n",
    "    is_train = model.training\n",
    "    model.eval()\n",
    "    with torch.no_grad():\n",
    "        loss_meter, acc_meter = AverageMeter(), AverageMeter()\n",
    "        for batch in val_loader:\n",
    "            outputs, _ = model(img)\n",
    "            loss_meter.update(criterion(outputs, labels).item(), len(img))\n",
    "            acc = (outputs.argmax(-1) == labels).float().mean().item()\n",
    "            acc_meter.update(acc, len(img))\n",
    "    model.train(is_train)\n",
    "    return loss_meter.calculate(), acc_meter.calculate()"
   ]
  },
  {
   "cell_type": "code",
   "execution_count": 14,
   "id": "d69183ce",
   "metadata": {
    "colab": {
     "base_uri": "https://localhost:8080/"
    },
    "id": "d69183ce",
    "outputId": "56aacf23-af2f-4a83-dbf0-7a6fbe981f7b"
   },
   "outputs": [
    {
     "name": "stderr",
     "output_type": "stream",
     "text": [
      "100%|██████████| 196/196 [00:22<00:00,  8.87it/s]"
     ]
    },
    {
     "name": "stdout",
     "output_type": "stream",
     "text": [
      "Train Epoch: 0, Loss: 1.670625510635376, Acc: 0.39186000000953675\n"
     ]
    },
    {
     "name": "stderr",
     "output_type": "stream",
     "text": [
      "\n"
     ]
    },
    {
     "name": "stdout",
     "output_type": "stream",
     "text": [
      "Val Epoch: 0, Loss: 1.443329930305481, Acc: 0.5375000238418579\n"
     ]
    },
    {
     "name": "stderr",
     "output_type": "stream",
     "text": [
      "100%|██████████| 196/196 [00:22<00:00,  8.66it/s]\n"
     ]
    },
    {
     "name": "stdout",
     "output_type": "stream",
     "text": [
      "Train Epoch: 1, Loss: 1.3569808107757568, Acc: 0.5141799999809266\n"
     ]
    },
    {
     "name": "stderr",
     "output_type": "stream",
     "text": [
      "100%|██████████| 196/196 [00:22<00:00,  8.88it/s]\n"
     ]
    },
    {
     "name": "stdout",
     "output_type": "stream",
     "text": [
      "Train Epoch: 2, Loss: 1.2226431272888183, Acc: 0.5621800000572205\n"
     ]
    },
    {
     "name": "stderr",
     "output_type": "stream",
     "text": [
      "100%|██████████| 196/196 [00:24<00:00,  8.15it/s]\n"
     ]
    },
    {
     "name": "stdout",
     "output_type": "stream",
     "text": [
      "Train Epoch: 3, Loss: 1.113698412628174, Acc: 0.6012600000190735\n"
     ]
    },
    {
     "name": "stderr",
     "output_type": "stream",
     "text": [
      "100%|██████████| 196/196 [00:21<00:00,  9.08it/s]\n"
     ]
    },
    {
     "name": "stdout",
     "output_type": "stream",
     "text": [
      "Train Epoch: 4, Loss: 0.9987624634170532, Acc: 0.6425999999809265\n"
     ]
    },
    {
     "name": "stderr",
     "output_type": "stream",
     "text": [
      "100%|██████████| 196/196 [00:22<00:00,  8.54it/s]\n"
     ]
    },
    {
     "name": "stdout",
     "output_type": "stream",
     "text": [
      "Train Epoch: 5, Loss: 0.881389510269165, Acc: 0.6862400000190735\n"
     ]
    },
    {
     "name": "stderr",
     "output_type": "stream",
     "text": [
      "100%|██████████| 196/196 [00:21<00:00,  9.17it/s]\n"
     ]
    },
    {
     "name": "stdout",
     "output_type": "stream",
     "text": [
      "Train Epoch: 6, Loss: 0.7352313379573822, Acc: 0.7410000000190735\n"
     ]
    },
    {
     "name": "stderr",
     "output_type": "stream",
     "text": [
      "100%|██████████| 196/196 [00:22<00:00,  8.86it/s]\n"
     ]
    },
    {
     "name": "stdout",
     "output_type": "stream",
     "text": [
      "Train Epoch: 7, Loss: 0.5884382677268982, Acc: 0.7967200000190735\n"
     ]
    },
    {
     "name": "stderr",
     "output_type": "stream",
     "text": [
      "100%|██████████| 196/196 [00:23<00:00,  8.43it/s]\n"
     ]
    },
    {
     "name": "stdout",
     "output_type": "stream",
     "text": [
      "Train Epoch: 8, Loss: 0.4617483802986145, Acc: 0.849040000038147\n"
     ]
    },
    {
     "name": "stderr",
     "output_type": "stream",
     "text": [
      "100%|██████████| 196/196 [00:21<00:00,  8.95it/s]"
     ]
    },
    {
     "name": "stdout",
     "output_type": "stream",
     "text": [
      "Train Epoch: 9, Loss: 0.38499923270702363, Acc: 0.8817399999809266\n"
     ]
    },
    {
     "name": "stderr",
     "output_type": "stream",
     "text": [
      "\n"
     ]
    },
    {
     "name": "stdout",
     "output_type": "stream",
     "text": [
      "Val Epoch: 9, Loss: 0.2393687218427658, Acc: 0.949999988079071\n",
      "Finished Training\n"
     ]
    }
   ],
   "source": [
    "# train the model\n",
    "import tqdm\n",
    "for epoch in range(NUM_EPOCHS):  #\n",
    "    loss_meter = AverageMeter()\n",
    "    acc_meter = AverageMeter()\n",
    "    for img, labels in tqdm.tqdm(train_dataloader):\n",
    "        img, labels = img.cuda(), labels.cuda()\n",
    "\n",
    "        optimizer.zero_grad()\n",
    "\n",
    "        outputs, _ = model(img)\n",
    "        loss = criterion(outputs, labels)\n",
    "        loss_meter.update(loss.item(), len(img))\n",
    "        acc = (outputs.argmax(-1) == labels).float().mean().item()\n",
    "        acc_meter.update(acc, len(img))\n",
    "        loss.backward()\n",
    "        optimizer.step()\n",
    "    scheduler.step()\n",
    "    print(f\"Train Epoch: {epoch}, Loss: {loss_meter.calculate()}, Acc: {acc_meter.calculate()}\")\n",
    "    if epoch % 10 == 0:\n",
    "        val_loss, val_acc = evaluate_cifar_model(model, criterion, val_dataloader)\n",
    "        print(f\"Val Epoch: {epoch}, Loss: {val_loss}, Acc: {val_acc}\")\n",
    "\n",
    "val_loss, val_acc = evaluate_cifar_model(model, criterion, val_dataloader)\n",
    "print(f\"Val Epoch: {epoch}, Loss: {val_loss}, Acc: {val_acc}\")\n",
    "print('Finished Training')"
   ]
  },
  {
   "cell_type": "markdown",
   "id": "22a64f80",
   "metadata": {
    "id": "22a64f80"
   },
   "source": [
    "# Part 3.D"
   ]
  },
  {
   "cell_type": "code",
   "execution_count": 15,
   "id": "d90ecba6",
   "metadata": {
    "colab": {
     "base_uri": "https://localhost:8080/",
     "height": 186
    },
    "id": "d90ecba6",
    "outputId": "75b52a43-ec20-417f-8d8e-5754a4a978ef"
   },
   "outputs": [
    {
     "data": {
      "image/png": "[encoded data removed]",
      "text/plain": [
       "<Figure size 1000x200 with 20 Axes>"
      ]
     },
     "metadata": {},
     "output_type": "display_data"
    }
   ],
   "source": [
    "for val_batch in val_dataloader:\n",
    "    break\n",
    "\n",
    "model.eval()\n",
    "with torch.no_grad():\n",
    "    img, labels = val_batch\n",
    "    img = img.cuda()\n",
    "    outputs, attns = model(img, return_attn=True)\n",
    "\n",
    "fig, ax = plt.subplots(2, 10, figsize=(10, 2))\n",
    "for i in range(10):\n",
    "    flattened_attns = attns.flatten(1,2)[:, :, 0, 1:].mean(1).reshape(-1, 8, 8).cpu().numpy()\n",
    "    ax[0, i].imshow(inv_transform(img[i]))\n",
    "    ax[1, i].imshow(flattened_attns[i])\n",
    "    ax[0, i].axis(False)\n",
    "    ax[1, i].axis(False)"
   ]
  },
  {
   "cell_type": "markdown",
   "id": "3096185a",
   "metadata": {
    "id": "3096185a"
   },
   "source": [
    "# Problem 4: Dialogue GPT"
   ]
  },
  {
   "cell_type": "code",
   "execution_count": 77,
   "id": "lqR5H5044Xvr",
   "metadata": {
    "colab": {
     "base_uri": "https://localhost:8080/"
    },
    "id": "lqR5H5044Xvr",
    "outputId": "813b5e20-35d7-48fc-f1bb-028ca668ca9b"
   },
   "outputs": [
    {
     "name": "stdout",
     "output_type": "stream",
     "text": [
      "Requirement already satisfied: wget in /usr/local/lib/python3.10/dist-packages (3.2)\n"
     ]
    }
   ],
   "source": [
    "!pip install wget"
   ]
  },
  {
   "cell_type": "code",
   "execution_count": 78,
   "id": "13a6fe8d",
   "metadata": {
    "id": "13a6fe8d"
   },
   "outputs": [],
   "source": [
    "import wget\n",
    "import os\n",
    "if not os.path.exists(\"input.txt\"):\n",
    "    wget.download(\"https://raw.githubusercontent.com/karpathy/char-rnn/master/data/tinyshakespeare/input.txt\")"
   ]
  },
  {
   "cell_type": "code",
   "execution_count": 79,
   "id": "8c9133dc",
   "metadata": {
    "id": "8c9133dc"
   },
   "outputs": [],
   "source": [
    "with open('input.txt', 'r') as f:\n",
    "    raw_text = f.read()\n",
    "# for special in ['.', ':', ',']:\n",
    "#     raw_text = raw_text.replace(special, ' ')\n",
    "all_dialogues = raw_text.split('\\n\\n')\n"
   ]
  },
  {
   "cell_type": "code",
   "execution_count": 80,
   "id": "8e2d6861",
   "metadata": {
    "colab": {
     "base_uri": "https://localhost:8080/"
    },
    "id": "8e2d6861",
    "outputId": "92ae4bbf-6816-47b8-e5d7-e527f896abf7"
   },
   "outputs": [
    {
     "name": "stderr",
     "output_type": "stream",
     "text": [
      "[nltk_data] Downloading package punkt to /root/nltk_data...\n",
      "[nltk_data]   Package punkt is already up-to-date!\n"
     ]
    },
    {
     "data": {
      "text/plain": [
       "True"
      ]
     },
     "execution_count": 80,
     "metadata": {},
     "output_type": "execute_result"
    }
   ],
   "source": [
    "import nltk\n",
    "from nltk.tokenize import word_tokenize\n",
    "nltk.download('punkt')"
   ]
  },
  {
   "cell_type": "markdown",
   "id": "ccb804ff",
   "metadata": {
    "id": "ccb804ff"
   },
   "source": [
    "## Part 4.A"
   ]
  },
  {
   "cell_type": "code",
   "execution_count": 107,
   "id": "20f26a57",
   "metadata": {
    "id": "20f26a57"
   },
   "outputs": [],
   "source": [
    "def tokenize(s):\n",
    "  return word_tokenize(s)\n",
    "\n",
    "class MyTokenizer:\n",
    "    def __init__(self, raw_text: str):\n",
    "        # raw_text     contains the text from which we will build our vocabulary\n",
    "\n",
    "        self.start = '<START>' # token that starts every example\n",
    "        self.pad = '<PAD>' # token used to pad examples to the same length\n",
    "        self.unk = '<UNK>' # token used if encountering a word not in our vocabulary\n",
    "\n",
    "        vocab = np.unique(tokenize(raw_text))\n",
    "        vocab = np.concatenate([np.array([self.start, self.pad, self.unk]), vocab])\n",
    "\n",
    "        self.vocab = vocab # array of tokens in order\n",
    "        self.tok_to_id = {w: i for i, w in enumerate(vocab)} # mapping of token to ID\n",
    "        self.vocab_size = len(self.vocab) # size of vocabulary\n",
    "\n",
    "    def encode(self, s: str) -> torch.Tensor:\n",
    "        # s           input string\n",
    "        #\n",
    "        # Output\n",
    "        # id_tensor   a tensor of token ids, starting with the start token.t\n",
    "\n",
    "\n",
    "        # TODO: tokenize the input using word_tokenize. Return a tensor\n",
    "        # of the token ids, starting with the token id for the start token.\n",
    "        # ============ ANSWER START ===========\n",
    "        s_tokenized = tokenize(s) # tokenize the input\n",
    "\n",
    "        # construct the list of token ids\n",
    "        s_ids = [self.tok_to_id.get(w, self.tok_to_id['<UNK>']) for w in s_tokenized]\n",
    "        s_ids.insert(0, self.tok_to_id['<START>'])\n",
    "\n",
    "        id_tensor = torch.tensor(s_ids)\n",
    "        # ============ ANSWER END =============\n",
    "\n",
    "        return id_tensor\n",
    "\n",
    "    def decode(self, toks: torch.Tensor) -> str:\n",
    "        # toks         a list of token ids\n",
    "        #\n",
    "        # Output\n",
    "        # decoded_str  the token ids decoded back into a string (join with a space)\n",
    "\n",
    "\n",
    "        # TODO: convert the token ids back to the actual corresponding words.\n",
    "        # Join the tokens with a space and return the full string\n",
    "        # ============ ANSWER START ===========\n",
    "        string = []\n",
    "        for id in toks:\n",
    "          w_ids = [w for w, i in self.tok_to_id.items() if i == id]\n",
    "          string.append(w_ids[0])\n",
    "\n",
    "        decoded_str = ' '.join(string)\n",
    "        # ============ ANSWER END =============\n",
    "\n",
    "        return decoded_str\n",
    "\n",
    "    def pad_examples(self, tok_list: List[torch.Tensor]) -> torch.Tensor:\n",
    "        # Pads the tensors to the right with the pad token so that they are the same length.\n",
    "        #\n",
    "        # tok_list       a list of tensors containing token ids (maybe of different lengths)\n",
    "        #\n",
    "        # Output\n",
    "        # padded_tokens  shape: (len(tok_list), max length within tok_list)\n",
    "        return torch.nn.utils.rnn.pad_sequence(tok_list, batch_first=True, padding_value=self.tok_to_id[self.pad])\n",
    "\n",
    "tok = MyTokenizer(raw_text)"
   ]
  },
  {
   "cell_type": "code",
   "execution_count": 108,
   "id": "328863ef",
   "metadata": {
    "colab": {
     "base_uri": "https://localhost:8080/"
    },
    "id": "328863ef",
    "outputId": "4ba3de67-623c-413b-c3af-7df08ff05403"
   },
   "outputs": [
    {
     "name": "stdout",
     "output_type": "stream",
     "text": [
      "tensor([    0,  1599,  2188,  1487,   226,  2349, 12831,  1481,  5724,  3327,\n",
      "        12886,  6880,  8773,  9662,  7689,   224])\n",
      "<START> KING RICHARD III : Say that I did all this for love of her .\n"
     ]
    }
   ],
   "source": [
    "# tokenizer test cases\n",
    "input_string = 'KING RICHARD III:\\nSay that I did all this for love of her.'\n",
    "enc = tok.encode(input_string)\n",
    "print(enc)\n",
    "dec = tok.decode(enc)\n",
    "print(dec)\n",
    "assert dec == \"<START> KING RICHARD III : Say that I did all this for love of her .\""
   ]
  },
  {
   "cell_type": "markdown",
   "id": "3359721d",
   "metadata": {
    "id": "3359721d"
   },
   "source": [
    "# Part 4.B"
   ]
  },
  {
   "cell_type": "code",
   "execution_count": 116,
   "id": "60f07f0a",
   "metadata": {
    "id": "60f07f0a"
   },
   "outputs": [],
   "source": [
    "class DialogueDataset:\n",
    "    def __init__(self, tokenizer: MyTokenizer, lines: List[torch.tensor], max_N: int):\n",
    "        # tokenizer    an instance of MyTokenizer\n",
    "        # lines        a list of strings. each element in an example in the dataset\n",
    "        # max_N        the maximum number of tokens allowed per example. More than this will be truncated\n",
    "        # Note: change 'lines: List[str]' to 'lines: List[torch.tensor]'\n",
    "        self.lines = lines\n",
    "        self.tokenizer = tokenizer\n",
    "        self.max_N = max_N\n",
    "\n",
    "    def __len__(self) -> int:\n",
    "        return len(self.lines)\n",
    "\n",
    "    def __getitem__(self, idx: int) -> torch.Tensor:\n",
    "        # returns the example at int encoded by the tokenizer\n",
    "        # truncates the example if it is more than max_N tokens\n",
    "        return self.tokenizer.encode(self.lines[idx])[:self.max_N]\n",
    "\n",
    "def collate_fn(examples: List[torch.Tensor]):\n",
    "    # examples        a batch of tensors containing token ids (maybe of different lengths)\n",
    "    # Outputs a dictionary containing\n",
    "    #   input_ids     a single tensor with all of the examples padded (from the right) to the max\n",
    "    #                 length within the batch. shape:(B, max length within examples)\n",
    "    #   input_mask    a tensor indicating which tokens are padding and should be ignored. 0 if padding\n",
    "    #                 and 1 if not. shape: (B, max length within examples)\n",
    "    new_input_ids = tok.pad_examples(examples)\n",
    "    attn_mask = torch.ones(new_input_ids.shape)\n",
    "    attn_mask[new_input_ids == tok.tok_to_id[tok.pad]] = 0\n",
    "    return {'input_ids': tok.pad_examples(examples), 'input_mask': attn_mask}\n",
    "\n",
    "ds = DialogueDataset(tok, all_dialogues, max_N=200)\n",
    "training_dl = torch.utils.data.DataLoader(ds, batch_size=64, collate_fn=collate_fn)"
   ]
  },
  {
   "cell_type": "code",
   "execution_count": 115,
   "id": "930c4fde",
   "metadata": {
    "colab": {
     "base_uri": "https://localhost:8080/"
    },
    "id": "930c4fde",
    "outputId": "e8dc15ab-c665-458f-9512-1e4be42cb824"
   },
   "outputs": [
    {
     "name": "stdout",
     "output_type": "stream",
     "text": [
      "{'input_ids': tensor([[   0, 1155,  712,  ...,    1,    1,    1],\n",
      "        [   0,  326,  226,  ...,    1,    1,    1],\n",
      "        [   0, 1155,  712,  ...,    1,    1,    1],\n",
      "        ...,\n",
      "        [   0, 1739,  226,  ...,    1,    1,    1],\n",
      "        [   0, 1155, 2391,  ...,    1,    1,    1],\n",
      "        [   0, 1739,  226,  ...,    1,    1,    1]]), 'input_mask': tensor([[1., 1., 1.,  ..., 0., 0., 0.],\n",
      "        [1., 1., 1.,  ..., 0., 0., 0.],\n",
      "        [1., 1., 1.,  ..., 0., 0., 0.],\n",
      "        ...,\n",
      "        [1., 1., 1.,  ..., 0., 0., 0.],\n",
      "        [1., 1., 1.,  ..., 0., 0., 0.],\n",
      "        [1., 1., 1.,  ..., 0., 0., 0.]])}\n"
     ]
    }
   ],
   "source": [
    "# take a look at an example of an element from the training dataloader\n",
    "for batch in training_dl:\n",
    "    print(batch)\n",
    "    break"
   ]
  },
  {
   "cell_type": "markdown",
   "id": "f980fc7d",
   "metadata": {
    "id": "f980fc7d"
   },
   "source": [
    "## Part 4.C"
   ]
  },
  {
   "cell_type": "code",
   "execution_count": 126,
   "id": "f37a893a",
   "metadata": {
    "id": "f37a893a"
   },
   "outputs": [],
   "source": [
    "class DialogueGPT(nn.Module):\n",
    "    def __init__(self, vocab_size: int, max_N: int, dim: int, attn_dim: int, mlp_dim: int, num_heads: int, num_layers: int):\n",
    "        # vocab_size       size of the vocabulary\n",
    "        # max_N            maximum number of tokens allowed to appear in 1 example\n",
    "        # dim              embedding dimension\n",
    "        # attn_dim         the hidden dimension of the attention layer\n",
    "        # mlp_dim          the hidden layer dimension of the FFN\n",
    "        # num_heads        the number of heads in the attention layer\n",
    "        # num_layers       the number of attention layers.\n",
    "\n",
    "        super().__init__()\n",
    "\n",
    "        # TODO: set up the token embedding and positional embeddings\n",
    "        #       Hint, use nn.Embedding\n",
    "        # ============ ANSWER START ============\n",
    "        self.token_embedding = nn.Embedding(vocab_size, dim)\n",
    "        self.positional_embedding = nn.Embedding(max_N, dim)\n",
    "        # ============ ANSWER END ==============\n",
    "\n",
    "        self.transformer = Transformer(\n",
    "            dim=dim, attn_dim=attn_dim, mlp_dim=mlp_dim, num_heads=num_heads, num_layers=num_layers)\n",
    "\n",
    "        self.head = nn.Sequential(\n",
    "            nn.LayerNorm(dim),\n",
    "            nn.Linear(dim, vocab_size)\n",
    "        )\n",
    "\n",
    "    def forward(self, input_ids: torch.Tensor, return_attn=False) -> Tuple[torch.Tensor, Optional[torch.Tensor]]:\n",
    "        # input_ids     a batch of input ids (right padded). shape: (B x T)\n",
    "        # return_attn   whether to return the attention weights\n",
    "        #\n",
    "        # Output\n",
    "        # out           the logit vector (B x T x V)\n",
    "        # alphas        the attention weights if return_attn is True. Otherwise None shape: (B, num_layers, num_heads, T, T)\n",
    "\n",
    "        # TODO: retrieve the token embeddings for the input_ids.\n",
    "        #       Add to the token embeddings the positional embeddings.\n",
    "        #       Store the combined embedding in embs\n",
    "        # ============ ANSWER START ============\n",
    "        B, T = input_ids.shape\n",
    "        # get positions of ids\n",
    "        positions = torch.arange(T, device=input_ids.device).unsqueeze(0).repeat(B, 1)\n",
    "        token_emb = self.token_embedding(input_ids)\n",
    "        pos_emb = self.positional_embedding(positions)\n",
    "\n",
    "        # Store the combined embedding\n",
    "        embs = token_emb + pos_emb\n",
    "        # ============ ANSWER END ============\n",
    "\n",
    "        causal_attn_mask = None\n",
    "\n",
    "        # TODO: Create the causal attention mask, which should be of size (B, T, T)\n",
    "        #       Remember that the causal attention mask is lower triangular (all tokens only\n",
    "        #       depend on themselves and the tokens before them).\n",
    "        #.      Store the mask in causal_attn_mask\n",
    "        # Hint: check out torch.tril\n",
    "        # ============ ANSWER START ============\n",
    "        causal_attn_mask = torch.tril(torch.ones((B, T, T), device=input_ids.device)).bool()\n",
    "        # ============ ANSWER END ==============\n",
    "\n",
    "        x, alphas = self.transformer(embs, attn_mask=causal_attn_mask, return_attn=return_attn)\n",
    "        out = self.head(x)\n",
    "        return out, alphas\n",
    "\n",
    "    def generate(self, input_ids, num_tokens):\n",
    "        # you can assume batch size 1\n",
    "        with torch.no_grad():\n",
    "            for i in range(num_tokens):\n",
    "                out, _ = self.forward(input_ids)\n",
    "                new_token = torch.argmax(out[:, [-1]], -1)\n",
    "                input_ids = torch.cat([input_ids, new_token], dim=1)\n",
    "        return input_ids\n"
   ]
  },
  {
   "cell_type": "markdown",
   "id": "a8b5f097",
   "metadata": {
    "id": "a8b5f097"
   },
   "source": [
    "## Part 4.D"
   ]
  },
  {
   "cell_type": "code",
   "execution_count": 127,
   "id": "a91f3300",
   "metadata": {
    "id": "a91f3300"
   },
   "outputs": [],
   "source": [
    "class DialogueLoss(nn.Module):\n",
    "    def __init__(self):\n",
    "        super().__init__()\n",
    "        self.criterion = nn.CrossEntropyLoss(reduction='none')\n",
    "\n",
    "    def forward(self, logits: torch.Tensor, input_ids: torch.Tensor, inp_mask: torch.Tensor):\n",
    "        # logits      the logits produced by DialogueGPT. shape: (B x T x V)\n",
    "        # input_ids   the token ids. shape: (B x T)\n",
    "        # inp_mask    a 0/1 mask of which tokens are padding tokens and should be ignored. shape: (B x T)\n",
    "\n",
    "        # TODO: Implement the language model loss. For logits[i], we want to supervise the i+1 token_id\n",
    "        # with the cross entropy loss. We thus will not supervise the start token (input_ids[0]) or use\n",
    "        # the last logit vector (logits[-1]). Return the average of the losses for each token in the batch,\n",
    "        # making sure to ignore tokens corresponding to the padding (use inp_mask).\n",
    "\n",
    "        logits = logits.transpose(1, 2)\n",
    "        loss = self.criterion(logits[:, :, :-1], input_ids[:, 1:])\n",
    "        loss = (loss[inp_mask[:, 1:] == 1]).mean()\n",
    "        return loss"
   ]
  },
  {
   "cell_type": "markdown",
   "id": "fa39592a",
   "metadata": {
    "id": "fa39592a"
   },
   "source": [
    "## Part 4.F"
   ]
  },
  {
   "cell_type": "code",
   "execution_count": 128,
   "id": "06e5b68b",
   "metadata": {
    "id": "06e5b68b"
   },
   "outputs": [],
   "source": [
    "import torch.optim as optim\n",
    "\n",
    "model = DialogueGPT(vocab_size=tok.vocab_size, max_N=200, dim=128, attn_dim=64, mlp_dim=128, num_heads=3, num_layers=6).cuda()\n",
    "criterion = DialogueLoss()\n",
    "\n",
    "NUM_EPOCHS = 80\n",
    "\n",
    "\n",
    "\n",
    "optimizer = optim.AdamW(model.parameters(), lr=0.0001, weight_decay=0)\n",
    "scheduler = optim.lr_scheduler.CosineAnnealingLR(optimizer, T_max=NUM_EPOCHS)\n"
   ]
  },
  {
   "cell_type": "code",
   "execution_count": 129,
   "id": "63c72fb2",
   "metadata": {
    "colab": {
     "base_uri": "https://localhost:8080/"
    },
    "id": "63c72fb2",
    "outputId": "89661605-7f18-44a2-e188-8c9a7191d21a"
   },
   "outputs": [
    {
     "name": "stderr",
     "output_type": "stream",
     "text": [
      "100%|██████████| 113/113 [00:24<00:00,  4.64it/s]\n"
     ]
    },
    {
     "name": "stdout",
     "output_type": "stream",
     "text": [
      "<START> : : , , , , , , , ,\n",
      "Train Epoch: 0, Loss: 8.4303, LR: 9.996145181203615e-05\n"
     ]
    },
    {
     "name": "stderr",
     "output_type": "stream",
     "text": [
      "100%|██████████| 113/113 [00:23<00:00,  4.74it/s]\n"
     ]
    },
    {
     "name": "stdout",
     "output_type": "stream",
     "text": [
      "<START> : : , , , , , , , ,\n",
      "Train Epoch: 1, Loss: 7.0164, LR: 9.98458666866564e-05\n"
     ]
    },
    {
     "name": "stderr",
     "output_type": "stream",
     "text": [
      "100%|██████████| 113/113 [00:23<00:00,  4.78it/s]\n"
     ]
    },
    {
     "name": "stdout",
     "output_type": "stream",
     "text": [
      "<START> : : , , , , , , , ,\n",
      "Train Epoch: 2, Loss: 6.5004, LR: 9.965342284774632e-05\n"
     ]
    },
    {
     "name": "stderr",
     "output_type": "stream",
     "text": [
      "100%|██████████| 113/113 [00:23<00:00,  4.79it/s]\n"
     ]
    },
    {
     "name": "stdout",
     "output_type": "stream",
     "text": [
      "<START> : : , I , I , I , I\n",
      "Train Epoch: 3, Loss: 6.3362, LR: 9.938441702975689e-05\n"
     ]
    },
    {
     "name": "stderr",
     "output_type": "stream",
     "text": [
      "100%|██████████| 113/113 [00:23<00:00,  4.77it/s]\n"
     ]
    },
    {
     "name": "stdout",
     "output_type": "stream",
     "text": [
      "<START> : : I , I , I , and I\n",
      "Train Epoch: 4, Loss: 6.2417, LR: 9.903926402016153e-05\n"
     ]
    },
    {
     "name": "stderr",
     "output_type": "stream",
     "text": [
      "100%|██████████| 113/113 [00:23<00:00,  4.79it/s]\n"
     ]
    },
    {
     "name": "stdout",
     "output_type": "stream",
     "text": [
      "<START> KING : I , I , I , and the\n",
      "Train Epoch: 5, Loss: 6.1528, LR: 9.861849601988383e-05\n"
     ]
    },
    {
     "name": "stderr",
     "output_type": "stream",
     "text": [
      "100%|██████████| 113/113 [00:23<00:00,  4.78it/s]\n"
     ]
    },
    {
     "name": "stdout",
     "output_type": "stream",
     "text": [
      "<START> KING : I , I , I 'll , I\n",
      "Train Epoch: 6, Loss: 6.0647, LR: 9.812276182268236e-05\n"
     ]
    },
    {
     "name": "stderr",
     "output_type": "stream",
     "text": [
      "100%|██████████| 113/113 [00:23<00:00,  4.78it/s]\n"
     ]
    },
    {
     "name": "stdout",
     "output_type": "stream",
     "text": [
      "<START> KING : I 'll , I am , and the\n",
      "Train Epoch: 7, Loss: 5.9848, LR: 9.755282581475769e-05\n"
     ]
    },
    {
     "name": "stderr",
     "output_type": "stream",
     "text": [
      "100%|██████████| 113/113 [00:23<00:00,  4.74it/s]\n"
     ]
    },
    {
     "name": "stdout",
     "output_type": "stream",
     "text": [
      "<START> KING : I 'll , I am , and the\n",
      "Train Epoch: 8, Loss: 5.9129, LR: 9.690956679612421e-05\n"
     ]
    },
    {
     "name": "stderr",
     "output_type": "stream",
     "text": [
      "100%|██████████| 113/113 [00:23<00:00,  4.76it/s]\n"
     ]
    },
    {
     "name": "stdout",
     "output_type": "stream",
     "text": [
      "<START> KING : I 'll , I have , and the\n",
      "Train Epoch: 9, Loss: 5.8470, LR: 9.619397662556433e-05\n"
     ]
    },
    {
     "name": "stderr",
     "output_type": "stream",
     "text": [
      "100%|██████████| 113/113 [00:23<00:00,  4.79it/s]\n"
     ]
    },
    {
     "name": "stdout",
     "output_type": "stream",
     "text": [
      "<START> KING VINCENTIO : I 'll , sir , and a\n",
      "Train Epoch: 10, Loss: 5.7917, LR: 9.540715869125406e-05\n"
     ]
    },
    {
     "name": "stderr",
     "output_type": "stream",
     "text": [
      "100%|██████████| 113/113 [00:23<00:00,  4.79it/s]\n"
     ]
    },
    {
     "name": "stdout",
     "output_type": "stream",
     "text": [
      "<START> KING VINCENTIO : I 'll , sir , and a\n",
      "Train Epoch: 11, Loss: 5.7392, LR: 9.455032620941839e-05\n"
     ]
    },
    {
     "name": "stderr",
     "output_type": "stream",
     "text": [
      "100%|██████████| 113/113 [00:23<00:00,  4.79it/s]\n"
     ]
    },
    {
     "name": "stdout",
     "output_type": "stream",
     "text": [
      "<START> KING RICHARD : I 'll be , and you ,\n",
      "Train Epoch: 12, Loss: 5.6917, LR: 9.362480035363986e-05\n"
     ]
    },
    {
     "name": "stderr",
     "output_type": "stream",
     "text": [
      "100%|██████████| 113/113 [00:23<00:00,  4.78it/s]\n"
     ]
    },
    {
     "name": "stdout",
     "output_type": "stream",
     "text": [
      "<START> KING RICHARD III : I have , sir , and\n",
      "Train Epoch: 13, Loss: 5.6498, LR: 9.263200821770461e-05\n"
     ]
    },
    {
     "name": "stderr",
     "output_type": "stream",
     "text": [
      "100%|██████████| 113/113 [00:23<00:00,  4.78it/s]\n"
     ]
    },
    {
     "name": "stdout",
     "output_type": "stream",
     "text": [
      "<START> KING RICHARD III : I have , sir , and\n",
      "Train Epoch: 14, Loss: 5.6117, LR: 9.157348061512727e-05\n"
     ]
    },
    {
     "name": "stderr",
     "output_type": "stream",
     "text": [
      "100%|██████████| 113/113 [00:23<00:00,  4.80it/s]\n"
     ]
    },
    {
     "name": "stdout",
     "output_type": "stream",
     "text": [
      "<START> KING RICHARD III : I have , sir , sir\n",
      "Train Epoch: 15, Loss: 5.5763, LR: 9.045084971874738e-05\n"
     ]
    },
    {
     "name": "stderr",
     "output_type": "stream",
     "text": [
      "100%|██████████| 113/113 [00:23<00:00,  4.72it/s]\n"
     ]
    },
    {
     "name": "stdout",
     "output_type": "stream",
     "text": [
      "<START> KING RICHARD III : I have , sir , sir\n",
      "Train Epoch: 16, Loss: 5.5437, LR: 8.926584654403724e-05\n"
     ]
    },
    {
     "name": "stderr",
     "output_type": "stream",
     "text": [
      "100%|██████████| 113/113 [00:23<00:00,  4.78it/s]\n"
     ]
    },
    {
     "name": "stdout",
     "output_type": "stream",
     "text": [
      "<START> KING RICHARD III : I have , sir , sir\n",
      "Train Epoch: 17, Loss: 5.5128, LR: 8.802029828000156e-05\n"
     ]
    },
    {
     "name": "stderr",
     "output_type": "stream",
     "text": [
      "100%|██████████| 113/113 [00:23<00:00,  4.78it/s]\n"
     ]
    },
    {
     "name": "stdout",
     "output_type": "stream",
     "text": [
      "<START> DUKE VINCENTIO : I 'll be , sir , and\n",
      "Train Epoch: 18, Loss: 5.4844, LR: 8.671612547178429e-05\n"
     ]
    },
    {
     "name": "stderr",
     "output_type": "stream",
     "text": [
      "100%|██████████| 113/113 [00:23<00:00,  4.80it/s]\n"
     ]
    },
    {
     "name": "stdout",
     "output_type": "stream",
     "text": [
      "<START> DUKE VINCENTIO : I 'll be , sir , and\n",
      "Train Epoch: 19, Loss: 5.4575, LR: 8.535533905932738e-05\n"
     ]
    },
    {
     "name": "stderr",
     "output_type": "stream",
     "text": [
      "100%|██████████| 113/113 [00:23<00:00,  4.81it/s]\n"
     ]
    },
    {
     "name": "stdout",
     "output_type": "stream",
     "text": [
      "<START> DUKE VINCENTIO : I 'll be , sir , and\n",
      "Train Epoch: 20, Loss: 5.4322, LR: 8.39400372766471e-05\n"
     ]
    },
    {
     "name": "stderr",
     "output_type": "stream",
     "text": [
      "100%|██████████| 113/113 [00:23<00:00,  4.82it/s]\n"
     ]
    },
    {
     "name": "stdout",
     "output_type": "stream",
     "text": [
      "<START> DUKE VINCENTIO : I 'll be , sir , and\n",
      "Train Epoch: 21, Loss: 5.4079, LR: 8.247240241650919e-05\n"
     ]
    },
    {
     "name": "stderr",
     "output_type": "stream",
     "text": [
      "100%|██████████| 113/113 [00:23<00:00,  4.80it/s]\n"
     ]
    },
    {
     "name": "stdout",
     "output_type": "stream",
     "text": [
      "<START> DUKE VINCENTIO : I 'll be , sir , I\n",
      "Train Epoch: 22, Loss: 5.3845, LR: 8.095469746549169e-05\n"
     ]
    },
    {
     "name": "stderr",
     "output_type": "stream",
     "text": [
      "100%|██████████| 113/113 [00:23<00:00,  4.74it/s]\n"
     ]
    },
    {
     "name": "stdout",
     "output_type": "stream",
     "text": [
      "<START> DUKE VINCENTIO : I 'll be , sir , I\n",
      "Train Epoch: 23, Loss: 5.3619, LR: 7.938926261462365e-05\n"
     ]
    },
    {
     "name": "stderr",
     "output_type": "stream",
     "text": [
      "100%|██████████| 113/113 [00:23<00:00,  4.79it/s]\n"
     ]
    },
    {
     "name": "stdout",
     "output_type": "stream",
     "text": [
      "<START> DUKE VINCENTIO : I 'll be , sir , I\n",
      "Train Epoch: 24, Loss: 5.3401, LR: 7.77785116509801e-05\n"
     ]
    },
    {
     "name": "stderr",
     "output_type": "stream",
     "text": [
      "100%|██████████| 113/113 [00:23<00:00,  4.77it/s]\n"
     ]
    },
    {
     "name": "stdout",
     "output_type": "stream",
     "text": [
      "<START> DUKE VINCENTIO : I am you , sir , sir\n",
      "Train Epoch: 25, Loss: 5.3194, LR: 7.612492823579744e-05\n"
     ]
    },
    {
     "name": "stderr",
     "output_type": "stream",
     "text": [
      "100%|██████████| 113/113 [00:23<00:00,  4.78it/s]\n"
     ]
    },
    {
     "name": "stdout",
     "output_type": "stream",
     "text": [
      "<START> KING EDWARD IV : I have , sir , sir\n",
      "Train Epoch: 26, Loss: 5.2997, LR: 7.443106207484775e-05\n"
     ]
    },
    {
     "name": "stderr",
     "output_type": "stream",
     "text": [
      "100%|██████████| 113/113 [00:23<00:00,  4.76it/s]\n"
     ]
    },
    {
     "name": "stdout",
     "output_type": "stream",
     "text": [
      "<START> KING EDWARD IV : I have , sir , sir\n",
      "Train Epoch: 27, Loss: 5.2804, LR: 7.269952498697733e-05\n"
     ]
    },
    {
     "name": "stderr",
     "output_type": "stream",
     "text": [
      "100%|██████████| 113/113 [00:23<00:00,  4.77it/s]\n"
     ]
    },
    {
     "name": "stdout",
     "output_type": "stream",
     "text": [
      "<START> KING EDWARD IV : I have , sir , sir\n",
      "Train Epoch: 28, Loss: 5.2615, LR: 7.093298687687139e-05\n"
     ]
    },
    {
     "name": "stderr",
     "output_type": "stream",
     "text": [
      "100%|██████████| 113/113 [00:23<00:00,  4.78it/s]\n"
     ]
    },
    {
     "name": "stdout",
     "output_type": "stream",
     "text": [
      "<START> DUKE VINCENTIO : I have a man , sir ,\n",
      "Train Epoch: 29, Loss: 5.2433, LR: 6.913417161825447e-05\n"
     ]
    },
    {
     "name": "stderr",
     "output_type": "stream",
     "text": [
      "100%|██████████| 113/113 [00:23<00:00,  4.74it/s]\n"
     ]
    },
    {
     "name": "stdout",
     "output_type": "stream",
     "text": [
      "<START> DUKE VINCENTIO : I have a man , sir ,\n",
      "Train Epoch: 30, Loss: 5.2258, LR: 6.730585285387463e-05\n"
     ]
    },
    {
     "name": "stderr",
     "output_type": "stream",
     "text": [
      "100%|██████████| 113/113 [00:23<00:00,  4.79it/s]\n"
     ]
    },
    {
     "name": "stdout",
     "output_type": "stream",
     "text": [
      "<START> DUKE VINCENTIO : I have a man , sir ,\n",
      "Train Epoch: 31, Loss: 5.2088, LR: 6.545084971874736e-05\n"
     ]
    },
    {
     "name": "stderr",
     "output_type": "stream",
     "text": [
      "100%|██████████| 113/113 [00:23<00:00,  4.80it/s]\n"
     ]
    },
    {
     "name": "stdout",
     "output_type": "stream",
     "text": [
      "<START> DUKE VINCENTIO : I have a man , sir ,\n",
      "Train Epoch: 32, Loss: 5.1929, LR: 6.35720224932537e-05\n"
     ]
    },
    {
     "name": "stderr",
     "output_type": "stream",
     "text": [
      "100%|██████████| 113/113 [00:23<00:00,  4.79it/s]\n"
     ]
    },
    {
     "name": "stdout",
     "output_type": "stream",
     "text": [
      "<START> DUKE VINCENTIO : I have been , sir , sir\n",
      "Train Epoch: 33, Loss: 5.1779, LR: 6.167226819279526e-05\n"
     ]
    },
    {
     "name": "stderr",
     "output_type": "stream",
     "text": [
      "100%|██████████| 113/113 [00:23<00:00,  4.80it/s]\n"
     ]
    },
    {
     "name": "stdout",
     "output_type": "stream",
     "text": [
      "<START> DUKE VINCENTIO : I have been , sir , sir\n",
      "Train Epoch: 34, Loss: 5.1640, LR: 5.97545161008064e-05\n"
     ]
    },
    {
     "name": "stderr",
     "output_type": "stream",
     "text": [
      "100%|██████████| 113/113 [00:23<00:00,  4.78it/s]\n"
     ]
    },
    {
     "name": "stdout",
     "output_type": "stream",
     "text": [
      "<START> DUKE VINCENTIO : I have been , sir , sir\n",
      "Train Epoch: 35, Loss: 5.1489, LR: 5.782172325201153e-05\n"
     ]
    },
    {
     "name": "stderr",
     "output_type": "stream",
     "text": [
      "100%|██████████| 113/113 [00:23<00:00,  4.79it/s]\n"
     ]
    },
    {
     "name": "stdout",
     "output_type": "stream",
     "text": [
      "<START> DUKE VINCENTIO : I have been , sir , sir\n",
      "Train Epoch: 36, Loss: 5.1337, LR: 5.587686987289187e-05\n"
     ]
    },
    {
     "name": "stderr",
     "output_type": "stream",
     "text": [
      "100%|██████████| 113/113 [00:23<00:00,  4.77it/s]\n"
     ]
    },
    {
     "name": "stdout",
     "output_type": "stream",
     "text": [
      "<START> DUKE VINCENTIO : I have been is a man ,\n",
      "Train Epoch: 37, Loss: 5.1198, LR: 5.392295478639223e-05\n"
     ]
    },
    {
     "name": "stderr",
     "output_type": "stream",
     "text": [
      "100%|██████████| 113/113 [00:23<00:00,  4.80it/s]\n"
     ]
    },
    {
     "name": "stdout",
     "output_type": "stream",
     "text": [
      "<START> DUKE VINCENTIO : I have been is a man ,\n",
      "Train Epoch: 38, Loss: 5.1079, LR: 5.196299078795341e-05\n"
     ]
    },
    {
     "name": "stderr",
     "output_type": "stream",
     "text": [
      "100%|██████████| 113/113 [00:23<00:00,  4.80it/s]\n"
     ]
    },
    {
     "name": "stdout",
     "output_type": "stream",
     "text": [
      "<START> DUKE VINCENTIO : I have been is a man ,\n",
      "Train Epoch: 39, Loss: 5.0958, LR: 4.999999999999998e-05\n"
     ]
    },
    {
     "name": "stderr",
     "output_type": "stream",
     "text": [
      "100%|██████████| 113/113 [00:23<00:00,  4.79it/s]\n"
     ]
    },
    {
     "name": "stdout",
     "output_type": "stream",
     "text": [
      "<START> DUKE VINCENTIO : I have done , sir , sir\n",
      "Train Epoch: 40, Loss: 5.0823, LR: 4.8037009212046566e-05\n"
     ]
    },
    {
     "name": "stderr",
     "output_type": "stream",
     "text": [
      "100%|██████████| 113/113 [00:23<00:00,  4.80it/s]\n"
     ]
    },
    {
     "name": "stdout",
     "output_type": "stream",
     "text": [
      "<START> DUKE VINCENTIO : I have done , sir , sir\n",
      "Train Epoch: 41, Loss: 5.0693, LR: 4.6077045213607746e-05\n"
     ]
    },
    {
     "name": "stderr",
     "output_type": "stream",
     "text": [
      "100%|██████████| 113/113 [00:23<00:00,  4.81it/s]\n"
     ]
    },
    {
     "name": "stdout",
     "output_type": "stream",
     "text": [
      "<START> DUKE VINCENTIO : I have done , sir , sir\n",
      "Train Epoch: 42, Loss: 5.0588, LR: 4.4123130127108115e-05\n"
     ]
    },
    {
     "name": "stderr",
     "output_type": "stream",
     "text": [
      "100%|██████████| 113/113 [00:23<00:00,  4.80it/s]\n"
     ]
    },
    {
     "name": "stdout",
     "output_type": "stream",
     "text": [
      "<START> DUKE VINCENTIO : I have done , sir , sir\n",
      "Train Epoch: 43, Loss: 5.0498, LR: 4.217827674798846e-05\n"
     ]
    },
    {
     "name": "stderr",
     "output_type": "stream",
     "text": [
      "100%|██████████| 113/113 [00:23<00:00,  4.76it/s]\n"
     ]
    },
    {
     "name": "stdout",
     "output_type": "stream",
     "text": [
      "<START> KING EDWARD IV : I 'll not be a man\n",
      "Train Epoch: 44, Loss: 5.0410, LR: 4.024548389919358e-05\n"
     ]
    },
    {
     "name": "stderr",
     "output_type": "stream",
     "text": [
      "100%|██████████| 113/113 [00:23<00:00,  4.81it/s]\n"
     ]
    },
    {
     "name": "stdout",
     "output_type": "stream",
     "text": [
      "<START> DUKE VINCENTIO : I have been a man , I\n",
      "Train Epoch: 45, Loss: 5.0311, LR: 3.832773180720473e-05\n"
     ]
    },
    {
     "name": "stderr",
     "output_type": "stream",
     "text": [
      "100%|██████████| 113/113 [00:23<00:00,  4.81it/s]\n"
     ]
    },
    {
     "name": "stdout",
     "output_type": "stream",
     "text": [
      "<START> DUKE VINCENTIO : I have been a man , I\n",
      "Train Epoch: 46, Loss: 5.0208, LR: 3.642797750674627e-05\n"
     ]
    },
    {
     "name": "stderr",
     "output_type": "stream",
     "text": [
      "100%|██████████| 113/113 [00:23<00:00,  4.79it/s]\n"
     ]
    },
    {
     "name": "stdout",
     "output_type": "stream",
     "text": [
      "<START> DUKE VINCENTIO : I have done . I am a\n",
      "Train Epoch: 47, Loss: 5.0115, LR: 3.454915028125263e-05\n"
     ]
    },
    {
     "name": "stderr",
     "output_type": "stream",
     "text": [
      "100%|██████████| 113/113 [00:23<00:00,  4.80it/s]\n"
     ]
    },
    {
     "name": "stdout",
     "output_type": "stream",
     "text": [
      "<START> DUKE VINCENTIO : I have done . I am a\n",
      "Train Epoch: 48, Loss: 5.0037, LR: 3.269414714612536e-05\n"
     ]
    },
    {
     "name": "stderr",
     "output_type": "stream",
     "text": [
      "100%|██████████| 113/113 [00:23<00:00,  4.80it/s]\n"
     ]
    },
    {
     "name": "stdout",
     "output_type": "stream",
     "text": [
      "<START> DUKE VINCENTIO : I have done . I am you\n",
      "Train Epoch: 49, Loss: 4.9972, LR: 3.086582838174551e-05\n"
     ]
    },
    {
     "name": "stderr",
     "output_type": "stream",
     "text": [
      "100%|██████████| 113/113 [00:23<00:00,  4.78it/s]\n"
     ]
    },
    {
     "name": "stdout",
     "output_type": "stream",
     "text": [
      "<START> DUKE VINCENTIO : I have been so . I am\n",
      "Train Epoch: 50, Loss: 4.9918, LR: 2.9067013123128613e-05\n"
     ]
    },
    {
     "name": "stderr",
     "output_type": "stream",
     "text": [
      "100%|██████████| 113/113 [00:23<00:00,  4.73it/s]\n"
     ]
    },
    {
     "name": "stdout",
     "output_type": "stream",
     "text": [
      "<START> DUKE VINCENTIO : I have been so . I am\n",
      "Train Epoch: 51, Loss: 4.9867, LR: 2.7300475013022666e-05\n"
     ]
    },
    {
     "name": "stderr",
     "output_type": "stream",
     "text": [
      "100%|██████████| 113/113 [00:23<00:00,  4.76it/s]\n"
     ]
    },
    {
     "name": "stdout",
     "output_type": "stream",
     "text": [
      "<START> DUKE VINCENTIO : I have been so . I am\n",
      "Train Epoch: 52, Loss: 4.9808, LR: 2.556893792515225e-05\n"
     ]
    },
    {
     "name": "stderr",
     "output_type": "stream",
     "text": [
      "100%|██████████| 113/113 [00:23<00:00,  4.77it/s]\n"
     ]
    },
    {
     "name": "stdout",
     "output_type": "stream",
     "text": [
      "<START> DUKE VINCENTIO : I have been so . I am\n",
      "Train Epoch: 53, Loss: 4.9741, LR: 2.3875071764202563e-05\n"
     ]
    },
    {
     "name": "stderr",
     "output_type": "stream",
     "text": [
      "100%|██████████| 113/113 [00:23<00:00,  4.75it/s]\n"
     ]
    },
    {
     "name": "stdout",
     "output_type": "stream",
     "text": [
      "<START> DUKE VINCENTIO : I 'll be : I 'll be\n",
      "Train Epoch: 54, Loss: 4.9673, LR: 2.222148834901989e-05\n"
     ]
    },
    {
     "name": "stderr",
     "output_type": "stream",
     "text": [
      "100%|██████████| 113/113 [00:23<00:00,  4.76it/s]\n"
     ]
    },
    {
     "name": "stdout",
     "output_type": "stream",
     "text": [
      "<START> DUKE VINCENTIO : I 'll be : I 'll be\n",
      "Train Epoch: 55, Loss: 4.9610, LR: 2.0610737385376352e-05\n"
     ]
    },
    {
     "name": "stderr",
     "output_type": "stream",
     "text": [
      "100%|██████████| 113/113 [00:23<00:00,  4.77it/s]\n"
     ]
    },
    {
     "name": "stdout",
     "output_type": "stream",
     "text": [
      "<START> DUKE VINCENTIO : I 'll be : I 'll be\n",
      "Train Epoch: 56, Loss: 4.9556, LR: 1.9045302534508318e-05\n"
     ]
    },
    {
     "name": "stderr",
     "output_type": "stream",
     "text": [
      "100%|██████████| 113/113 [00:23<00:00,  4.77it/s]\n"
     ]
    },
    {
     "name": "stdout",
     "output_type": "stream",
     "text": [
      "<START> DUKE VINCENTIO : I have been so . I am\n",
      "Train Epoch: 57, Loss: 4.9511, LR: 1.7527597583490826e-05\n"
     ]
    },
    {
     "name": "stderr",
     "output_type": "stream",
     "text": [
      "100%|██████████| 113/113 [00:23<00:00,  4.78it/s]\n"
     ]
    },
    {
     "name": "stdout",
     "output_type": "stream",
     "text": [
      "<START> DUKE VINCENTIO : I have been a man , I\n",
      "Train Epoch: 58, Loss: 4.9474, LR: 1.6059962723352925e-05\n"
     ]
    },
    {
     "name": "stderr",
     "output_type": "stream",
     "text": [
      "100%|██████████| 113/113 [00:23<00:00,  4.73it/s]\n"
     ]
    },
    {
     "name": "stdout",
     "output_type": "stream",
     "text": [
      "<START> KING RICHARD III : I am I am I am\n",
      "Train Epoch: 59, Loss: 4.9438, LR: 1.4644660940672629e-05\n"
     ]
    },
    {
     "name": "stderr",
     "output_type": "stream",
     "text": [
      "100%|██████████| 113/113 [00:23<00:00,  4.76it/s]\n"
     ]
    },
    {
     "name": "stdout",
     "output_type": "stream",
     "text": [
      "<START> KING RICHARD III : I am I am I am\n",
      "Train Epoch: 60, Loss: 4.9402, LR: 1.3283874528215718e-05\n"
     ]
    },
    {
     "name": "stderr",
     "output_type": "stream",
     "text": [
      "100%|██████████| 113/113 [00:23<00:00,  4.78it/s]\n"
     ]
    },
    {
     "name": "stdout",
     "output_type": "stream",
     "text": [
      "<START> KING RICHARD III : I am I am I am\n",
      "Train Epoch: 61, Loss: 4.9363, LR: 1.1979701719998453e-05\n"
     ]
    },
    {
     "name": "stderr",
     "output_type": "stream",
     "text": [
      "100%|██████████| 113/113 [00:23<00:00,  4.81it/s]\n"
     ]
    },
    {
     "name": "stdout",
     "output_type": "stream",
     "text": [
      "<START> KING RICHARD III : I am I am I am\n",
      "Train Epoch: 62, Loss: 4.9323, LR: 1.0734153455962748e-05\n"
     ]
    },
    {
     "name": "stderr",
     "output_type": "stream",
     "text": [
      "100%|██████████| 113/113 [00:23<00:00,  4.79it/s]\n"
     ]
    },
    {
     "name": "stdout",
     "output_type": "stream",
     "text": [
      "<START> KING RICHARD III : I am I am I am\n",
      "Train Epoch: 63, Loss: 4.9285, LR: 9.549150281252633e-06\n"
     ]
    },
    {
     "name": "stderr",
     "output_type": "stream",
     "text": [
      "100%|██████████| 113/113 [00:23<00:00,  4.78it/s]\n"
     ]
    },
    {
     "name": "stdout",
     "output_type": "stream",
     "text": [
      "<START> KING RICHARD III : I am I am I am\n",
      "Train Epoch: 64, Loss: 4.9250, LR: 8.426519384872749e-06\n"
     ]
    },
    {
     "name": "stderr",
     "output_type": "stream",
     "text": [
      "100%|██████████| 113/113 [00:23<00:00,  4.78it/s]\n"
     ]
    },
    {
     "name": "stdout",
     "output_type": "stream",
     "text": [
      "<START> KING RICHARD III : I am I am I am\n",
      "Train Epoch: 65, Loss: 4.9217, LR: 7.3679917822953905e-06\n"
     ]
    },
    {
     "name": "stderr",
     "output_type": "stream",
     "text": [
      "100%|██████████| 113/113 [00:23<00:00,  4.74it/s]\n"
     ]
    },
    {
     "name": "stdout",
     "output_type": "stream",
     "text": [
      "<START> KING RICHARD III : I am I am I am\n",
      "Train Epoch: 66, Loss: 4.9188, LR: 6.375199646360152e-06\n"
     ]
    },
    {
     "name": "stderr",
     "output_type": "stream",
     "text": [
      "100%|██████████| 113/113 [00:23<00:00,  4.79it/s]\n"
     ]
    },
    {
     "name": "stdout",
     "output_type": "stream",
     "text": [
      "<START> KING RICHARD III : I am I am I am\n",
      "Train Epoch: 67, Loss: 4.9162, LR: 5.44967379058161e-06\n"
     ]
    },
    {
     "name": "stderr",
     "output_type": "stream",
     "text": [
      "100%|██████████| 113/113 [00:23<00:00,  4.78it/s]\n"
     ]
    },
    {
     "name": "stdout",
     "output_type": "stream",
     "text": [
      "<START> KING RICHARD III : I am I am I am\n",
      "Train Epoch: 68, Loss: 4.9138, LR: 4.592841308745932e-06\n"
     ]
    },
    {
     "name": "stderr",
     "output_type": "stream",
     "text": [
      "100%|██████████| 113/113 [00:23<00:00,  4.78it/s]\n"
     ]
    },
    {
     "name": "stdout",
     "output_type": "stream",
     "text": [
      "<START> KING RICHARD III : I am I am I am\n",
      "Train Epoch: 69, Loss: 4.9118, LR: 3.806023374435663e-06\n"
     ]
    },
    {
     "name": "stderr",
     "output_type": "stream",
     "text": [
      "100%|██████████| 113/113 [00:23<00:00,  4.79it/s]\n"
     ]
    },
    {
     "name": "stdout",
     "output_type": "stream",
     "text": [
      "<START> KING RICHARD III : I am I am I am\n",
      "Train Epoch: 70, Loss: 4.9100, LR: 3.0904332038757918e-06\n"
     ]
    },
    {
     "name": "stderr",
     "output_type": "stream",
     "text": [
      "100%|██████████| 113/113 [00:23<00:00,  4.78it/s]\n"
     ]
    },
    {
     "name": "stdout",
     "output_type": "stream",
     "text": [
      "<START> KING RICHARD III : I am I am I am\n",
      "Train Epoch: 71, Loss: 4.9084, LR: 2.447174185242323e-06\n"
     ]
    },
    {
     "name": "stderr",
     "output_type": "stream",
     "text": [
      "100%|██████████| 113/113 [00:23<00:00,  4.75it/s]\n"
     ]
    },
    {
     "name": "stdout",
     "output_type": "stream",
     "text": [
      "<START> KING RICHARD III : I am I am I am\n",
      "Train Epoch: 72, Loss: 4.9070, LR: 1.8772381773176413e-06\n"
     ]
    },
    {
     "name": "stderr",
     "output_type": "stream",
     "text": [
      "100%|██████████| 113/113 [00:23<00:00,  4.73it/s]\n"
     ]
    },
    {
     "name": "stdout",
     "output_type": "stream",
     "text": [
      "<START> KING RICHARD III : I am I am I am\n",
      "Train Epoch: 73, Loss: 4.9059, LR: 1.381503980116172e-06\n"
     ]
    },
    {
     "name": "stderr",
     "output_type": "stream",
     "text": [
      "100%|██████████| 113/113 [00:23<00:00,  4.79it/s]\n"
     ]
    },
    {
     "name": "stdout",
     "output_type": "stream",
     "text": [
      "<START> KING RICHARD III : I am I am I am\n",
      "Train Epoch: 74, Loss: 4.9049, LR: 9.607359798384783e-07\n"
     ]
    },
    {
     "name": "stderr",
     "output_type": "stream",
     "text": [
      "100%|██████████| 113/113 [00:23<00:00,  4.78it/s]\n"
     ]
    },
    {
     "name": "stdout",
     "output_type": "stream",
     "text": [
      "<START> KING RICHARD III : I am I am I am\n",
      "Train Epoch: 75, Loss: 4.9041, LR: 6.155829702431169e-07\n"
     ]
    },
    {
     "name": "stderr",
     "output_type": "stream",
     "text": [
      "100%|██████████| 113/113 [00:23<00:00,  4.78it/s]\n"
     ]
    },
    {
     "name": "stdout",
     "output_type": "stream",
     "text": [
      "<START> KING RICHARD III : I am I am I am\n",
      "Train Epoch: 76, Loss: 4.9034, LR: 3.4657715225368527e-07\n"
     ]
    },
    {
     "name": "stderr",
     "output_type": "stream",
     "text": [
      "100%|██████████| 113/113 [00:23<00:00,  4.77it/s]\n"
     ]
    },
    {
     "name": "stdout",
     "output_type": "stream",
     "text": [
      "<START> KING RICHARD III : I am I am I am\n",
      "Train Epoch: 77, Loss: 4.9029, LR: 1.5413331334360177e-07\n"
     ]
    },
    {
     "name": "stderr",
     "output_type": "stream",
     "text": [
      "100%|██████████| 113/113 [00:23<00:00,  4.79it/s]\n"
     ]
    },
    {
     "name": "stdout",
     "output_type": "stream",
     "text": [
      "<START> KING RICHARD III : I am I am I am\n",
      "Train Epoch: 78, Loss: 4.9026, LR: 3.854818796385494e-08\n"
     ]
    },
    {
     "name": "stderr",
     "output_type": "stream",
     "text": [
      "100%|██████████| 113/113 [00:23<00:00,  4.79it/s]\n"
     ]
    },
    {
     "name": "stdout",
     "output_type": "stream",
     "text": [
      "<START> KING RICHARD III : I am I am I am\n",
      "Train Epoch: 79, Loss: 4.9024, LR: 0.0\n"
     ]
    }
   ],
   "source": [
    "import tqdm\n",
    "for epoch in range(NUM_EPOCHS):  # loop over the dataset multiple times\n",
    "    loss_meter = AverageMeter()\n",
    "    for inp_dict in tqdm.tqdm(training_dl):\n",
    "        # get the inputs; data is a list of [inputs, labels]\n",
    "        inp_ids, inp_mask = inp_dict['input_ids'], inp_dict['input_mask']\n",
    "        inp_ids = inp_ids.cuda()\n",
    "        inp_mask = inp_mask.cuda()\n",
    "        # zero the parameter gradients\n",
    "        optimizer.zero_grad()\n",
    "\n",
    "        # forward + backward + optimize\n",
    "        outputs, _ = model(input_ids=inp_ids)\n",
    "        loss = criterion(outputs, inp_ids, inp_mask)\n",
    "        loss_meter.update(loss.item(), len(inp_dict['input_ids']))\n",
    "        loss.backward()\n",
    "        optimizer.step()\n",
    "    scheduler.step()\n",
    "\n",
    "        # print example\n",
    "    inp = tok.encode(\"\").unsqueeze(0).cuda()\n",
    "    print(tok.decode(model.generate(inp, 10)[0].cpu()))\n",
    "\n",
    "    print(f\"Train Epoch: {epoch}, Loss: {loss_meter.calculate():0.4f}, LR: {scheduler.get_last_lr()[0]}\")\n"
   ]
  },
  {
   "cell_type": "markdown",
   "id": "a66ac1b1",
   "metadata": {
    "id": "a66ac1b1"
   },
   "source": [
    "## Part 4.G"
   ]
  },
  {
   "cell_type": "code",
   "execution_count": 130,
   "id": "2c5d1381",
   "metadata": {
    "colab": {
     "base_uri": "https://localhost:8080/"
    },
    "id": "2c5d1381",
    "outputId": "5e70552a-6dad-437c-8a28-31eb05767e1b"
   },
   "outputs": [
    {
     "name": "stdout",
     "output_type": "stream",
     "text": [
      "<START> KING RICHARD III : I am I am I am a man . Come , I am a man , I am a king , I have you , I 'll be a king , I am a man , I 'll be : And I will not be a\n"
     ]
    }
   ],
   "source": [
    "inp = tok.encode(\"\").unsqueeze(0).cuda()\n",
    "print(tok.decode(model.generate(inp, 50)[0].cpu()))"
   ]
  },
  {
   "cell_type": "code",
   "execution_count": null,
   "id": "GKYWyj7w-AQW",
   "metadata": {
    "id": "GKYWyj7w-AQW"
   },
   "outputs": [],
   "source": []
  }
 ],
 "metadata": {
  "accelerator": "GPU",
  "colab": {
   "gpuType": "T4",
   "provenance": []
  },
  "kernelspec": {
   "display_name": "Python 3 (ipykernel)",
   "language": "python",
   "name": "python3"
  },
  "language_info": {
   "codemirror_mode": {
    "name": "ipython",
    "version": 3
   },
   "file_extension": ".py",
   "mimetype": "text/x-python",
   "name": "python",
   "nbconvert_exporter": "python",
   "pygments_lexer": "ipython3",
   "version": "3.11.2"
  }
 },
 "nbformat": 4,
 "nbformat_minor": 5
}
